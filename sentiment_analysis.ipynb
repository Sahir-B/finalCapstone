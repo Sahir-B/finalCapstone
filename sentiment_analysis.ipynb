{
 "cells": [
  {
   "cell_type": "code",
   "execution_count": 11,
   "metadata": {},
   "outputs": [],
   "source": [
    "import spacy\n",
    "import pandas as pd\n",
    "import spacy\n",
    "from textblob import TextBlob\n",
    "\n",
    "# Load the English language model\n",
    "nlp = spacy.load('en_core_web_sm')"
   ]
  },
  {
   "cell_type": "code",
   "execution_count": 12,
   "metadata": {},
   "outputs": [
    {
     "data": {
      "text/plain": [
       "0    I order 3 of them and one of the item is bad q...\n",
       "1    Bulk is always the less expensive way to go fo...\n",
       "2    Well they are not Duracell but for the price i...\n",
       "3    Seem to work as well as name brand batteries a...\n",
       "4    These batteries are very long lasting the pric...\n",
       "Name: reviews.text, dtype: object"
      ]
     },
     "execution_count": 12,
     "metadata": {},
     "output_type": "execute_result"
    }
   ],
   "source": [
    "# Load dataset and drop missing values\n",
    "df = pd.read_csv('amazon_product_reviews.csv')\n",
    "clean_data = df.dropna(subset=['reviews.text'])\n",
    "\n",
    "# Select column for preprocessing\n",
    "cleaned = clean_data[['reviews.text']].copy()\n",
    "text = cleaned['reviews.text']\n",
    "text.head()"
   ]
  },
  {
   "cell_type": "code",
   "execution_count": 14,
   "metadata": {},
   "outputs": [],
   "source": [
    "def preprocess_text(text):\n",
    "    \"\"\"\n",
    "    Preprocesses the input text by removing stopwords and performing basic text cleaning.\n",
    "    \"\"\"\n",
    "    # Convert text to lowercase and remove whitespace\n",
    "    doc = nlp(text.lower().strip())\n",
    "    \n",
    "    # Iterate through words in doc to remove stopwords and punctuation and return as lemmatised tokens\n",
    "    tokens = [token.lemma_ for token in doc if not token.is_stop and not token.is_punct]\n",
    "    \n",
    "    # Join the tokens back into a string with white spaces\n",
    "    return ' '.join(tokens)"
   ]
  },
  {
   "cell_type": "code",
   "execution_count": 15,
   "metadata": {},
   "outputs": [],
   "source": [
    "# Apply preprocessing function to the reviews column of the dataframe\n",
    "cleaned['processed.text'] = cleaned['reviews.text'].apply(preprocess_text)"
   ]
  },
  {
   "cell_type": "code",
   "execution_count": 16,
   "metadata": {},
   "outputs": [
    {
     "data": {
      "text/html": [
       "<div>\n",
       "<style scoped>\n",
       "    .dataframe tbody tr th:only-of-type {\n",
       "        vertical-align: middle;\n",
       "    }\n",
       "\n",
       "    .dataframe tbody tr th {\n",
       "        vertical-align: top;\n",
       "    }\n",
       "\n",
       "    .dataframe thead th {\n",
       "        text-align: right;\n",
       "    }\n",
       "</style>\n",
       "<table border=\"1\" class=\"dataframe\">\n",
       "  <thead>\n",
       "    <tr style=\"text-align: right;\">\n",
       "      <th></th>\n",
       "      <th>reviews.text</th>\n",
       "      <th>processed.text</th>\n",
       "    </tr>\n",
       "  </thead>\n",
       "  <tbody>\n",
       "    <tr>\n",
       "      <th>0</th>\n",
       "      <td>I order 3 of them and one of the item is bad q...</td>\n",
       "      <td>order 3 item bad quality miss backup spring pc...</td>\n",
       "    </tr>\n",
       "    <tr>\n",
       "      <th>1</th>\n",
       "      <td>Bulk is always the less expensive way to go fo...</td>\n",
       "      <td>bulk expensive way product like</td>\n",
       "    </tr>\n",
       "    <tr>\n",
       "      <th>2</th>\n",
       "      <td>Well they are not Duracell but for the price i...</td>\n",
       "      <td>duracell price happy</td>\n",
       "    </tr>\n",
       "    <tr>\n",
       "      <th>3</th>\n",
       "      <td>Seem to work as well as name brand batteries a...</td>\n",
       "      <td>work brand battery well price</td>\n",
       "    </tr>\n",
       "    <tr>\n",
       "      <th>4</th>\n",
       "      <td>These batteries are very long lasting the pric...</td>\n",
       "      <td>battery long last price great</td>\n",
       "    </tr>\n",
       "  </tbody>\n",
       "</table>\n",
       "</div>"
      ],
      "text/plain": [
       "                                        reviews.text  \\\n",
       "0  I order 3 of them and one of the item is bad q...   \n",
       "1  Bulk is always the less expensive way to go fo...   \n",
       "2  Well they are not Duracell but for the price i...   \n",
       "3  Seem to work as well as name brand batteries a...   \n",
       "4  These batteries are very long lasting the pric...   \n",
       "\n",
       "                                      processed.text  \n",
       "0  order 3 item bad quality miss backup spring pc...  \n",
       "1                    bulk expensive way product like  \n",
       "2                               duracell price happy  \n",
       "3                      work brand battery well price  \n",
       "4                      battery long last price great  "
      ]
     },
     "execution_count": 16,
     "metadata": {},
     "output_type": "execute_result"
    }
   ],
   "source": [
    "cleaned.head()"
   ]
  },
  {
   "cell_type": "code",
   "execution_count": 17,
   "metadata": {},
   "outputs": [],
   "source": [
    "def analyse_sentiment(text):\n",
    "    \"\"\"\n",
    "    Analyses sentiment of the input text using TextBlob\n",
    "    \"\"\"\n",
    "\n",
    "    # Analyse sentiment with TextBlob\n",
    "    blob = TextBlob(text)\n",
    "    # Using the polarity attribute\n",
    "    polarity = blob.polarity\n",
    "\n",
    "    # Determine sentiment based on polarity score\n",
    "    if polarity > 0:\n",
    "        sentiment = 'positive'\n",
    "    elif polarity < 0:\n",
    "        sentiment = 'negative'\n",
    "    else:\n",
    "        sentiment = 'neutral'\n",
    "        \n",
    "    return sentiment"
   ]
  },
  {
   "cell_type": "code",
   "execution_count": 18,
   "metadata": {},
   "outputs": [
    {
     "name": "stdout",
     "output_type": "stream",
     "text": [
      "                                          processed.text sentiment\n",
      "0      order 3 item bad quality miss backup spring pc...  negative\n",
      "1                        bulk expensive way product like  negative\n",
      "2                                   duracell price happy  positive\n",
      "3                          work brand battery well price   neutral\n",
      "4                          battery long last price great  positive\n",
      "...                                                  ...       ...\n",
      "28327  get 2 8 yr old twin 11 yr old well perfect way...  positive\n",
      "28328       buy niece christmas gift.she 9 year old love  positive\n",
      "28329  nice light internet browsing keep email view v...  positive\n",
      "28330  tablet absolutely want watch tv show movie che...  positive\n",
      "28331  ninety dollar expectionation low good table go...  positive\n",
      "\n",
      "[28332 rows x 2 columns]\n"
     ]
    }
   ],
   "source": [
    "# Apply sentiment analysis to the preprocessed text column\n",
    "cleaned['sentiment'] = cleaned['processed.text'].apply(analyse_sentiment)\n",
    "\n",
    "print(cleaned[['processed.text', 'sentiment']])"
   ]
  },
  {
   "cell_type": "code",
   "execution_count": 19,
   "metadata": {},
   "outputs": [
    {
     "name": "stdout",
     "output_type": "stream",
     "text": [
      "__________Sentiment Analysis__________\n",
      "\n",
      "Review text: Batteries were packaged good and seem fine\n",
      "\n",
      "Sentiment: positive\n"
     ]
    }
   ],
   "source": [
    "# Testing model on a review\n",
    "# Select a review\n",
    "review = cleaned['reviews.text'][555]   # Index of review number\n",
    "\n",
    "# Analyse sentiment of the given review\n",
    "sentiment_label = analyse_sentiment(review)\n",
    "\n",
    "# Print the sentiment analysis function result\n",
    "print(\"__________Sentiment Analysis__________\\n\")\n",
    "print(f\"Review text: {review}\\n\")\n",
    "print(f\"Sentiment:\", sentiment_label)"
   ]
  },
  {
   "cell_type": "code",
   "execution_count": 20,
   "metadata": {},
   "outputs": [],
   "source": [
    "def similarity_analysis(text1, text2):\n",
    "    \"\"\"\n",
    "    Analyses the similarity between two reviews texts using the similarity function.\n",
    "    \"\"\"\n",
    "    # Process the texts using spacy\n",
    "    doc1 = nlp(text1)\n",
    "    doc2 = nlp(text2)\n",
    "    \n",
    "    # Calculate the similarity between the two documents and return the score\n",
    "    similarity_score = doc1.similarity(doc2)\n",
    "    \n",
    "    return similarity_score"
   ]
  },
  {
   "cell_type": "code",
   "execution_count": 21,
   "metadata": {},
   "outputs": [
    {
     "name": "stdout",
     "output_type": "stream",
     "text": [
      "Similarity score: 0.42\n"
     ]
    },
    {
     "name": "stderr",
     "output_type": "stream",
     "text": [
      "C:\\Users\\SAHIR\\AppData\\Local\\Temp\\ipykernel_8252\\2846774348.py:10: UserWarning: [W007] The model you're using has no word vectors loaded, so the result of the Doc.similarity method will be based on the tagger, parser and NER, which may not give useful similarity judgements. This may happen if you're using one of the small models, e.g. `en_core_web_sm`, which don't ship with word vectors and only use context-sensitive tensors. You can always add your own word vectors, or use one of the larger models instead if available.\n",
      "  similarity_score = doc1.similarity(doc2)\n"
     ]
    }
   ],
   "source": [
    "# Select two reviews for comparison\n",
    "review1 = cleaned['reviews.text'][0]  # Index of the first review\n",
    "review2 = cleaned['reviews.text'][1]  # Index of the second review\n",
    "\n",
    "# Calculate similarity between the selected reviews\n",
    "similarity_score = similarity_analysis(review1, review2)\n",
    "\n",
    "print(f\"Similarity score: {similarity_score:.2f}\")"
   ]
  }
 ],
 "metadata": {
  "kernelspec": {
   "display_name": "Python 3",
   "language": "python",
   "name": "python3"
  },
  "language_info": {
   "codemirror_mode": {
    "name": "ipython",
    "version": 3
   },
   "file_extension": ".py",
   "mimetype": "text/x-python",
   "name": "python",
   "nbconvert_exporter": "python",
   "pygments_lexer": "ipython3",
   "version": "3.12.0"
  }
 },
 "nbformat": 4,
 "nbformat_minor": 2
}
